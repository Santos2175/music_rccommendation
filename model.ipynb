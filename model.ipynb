{
 "cells": [
  {
   "cell_type": "code",
   "execution_count": 72,
   "metadata": {},
   "outputs": [],
   "source": [
    "#Importing necessary modules\n",
    "import pandas as pd\n",
    "import os\n",
    "import numpy as np\n",
    "from sklearn.model_selection import train_test_split\n",
    "from sklearn.metrics import precision_score, recall_score\n",
    "from keras.models import Model\n",
    "from keras.layers import Input, Embedding, Flatten, Dense, Concatenate\n",
    "from keras.optimizers import Adam\n",
    "from keras.losses import MeanSquaredError\n",
    "import matplotlib.pyplot as plt"
   ]
  },
  {
   "cell_type": "code",
   "execution_count": 73,
   "metadata": {},
   "outputs": [],
   "source": [
    "#loading necessary datasets\n",
    "data1 = pd.read_csv(os.path.join('input', 'music_ratings.csv'))\n",
    "data2 = pd.read_csv(os.path.join('input', 'music_dataset.csv'))"
   ]
  },
  {
   "cell_type": "code",
   "execution_count": 74,
   "metadata": {},
   "outputs": [
    {
     "data": {
      "text/html": [
       "<div>\n",
       "<style scoped>\n",
       "    .dataframe tbody tr th:only-of-type {\n",
       "        vertical-align: middle;\n",
       "    }\n",
       "\n",
       "    .dataframe tbody tr th {\n",
       "        vertical-align: top;\n",
       "    }\n",
       "\n",
       "    .dataframe thead th {\n",
       "        text-align: right;\n",
       "    }\n",
       "</style>\n",
       "<table border=\"1\" class=\"dataframe\">\n",
       "  <thead>\n",
       "    <tr style=\"text-align: right;\">\n",
       "      <th></th>\n",
       "      <th>user_id</th>\n",
       "      <th>music_id</th>\n",
       "      <th>rating</th>\n",
       "    </tr>\n",
       "  </thead>\n",
       "  <tbody>\n",
       "    <tr>\n",
       "      <th>0</th>\n",
       "      <td>1</td>\n",
       "      <td>4576</td>\n",
       "      <td>2</td>\n",
       "    </tr>\n",
       "    <tr>\n",
       "      <th>1</th>\n",
       "      <td>1</td>\n",
       "      <td>6086</td>\n",
       "      <td>3</td>\n",
       "    </tr>\n",
       "    <tr>\n",
       "      <th>2</th>\n",
       "      <td>1</td>\n",
       "      <td>5502</td>\n",
       "      <td>2</td>\n",
       "    </tr>\n",
       "    <tr>\n",
       "      <th>3</th>\n",
       "      <td>1</td>\n",
       "      <td>5781</td>\n",
       "      <td>2</td>\n",
       "    </tr>\n",
       "    <tr>\n",
       "      <th>4</th>\n",
       "      <td>1</td>\n",
       "      <td>7521</td>\n",
       "      <td>2</td>\n",
       "    </tr>\n",
       "  </tbody>\n",
       "</table>\n",
       "</div>"
      ],
      "text/plain": [
       "   user_id  music_id  rating\n",
       "0        1      4576       2\n",
       "1        1      6086       3\n",
       "2        1      5502       2\n",
       "3        1      5781       2\n",
       "4        1      7521       2"
      ]
     },
     "execution_count": 74,
     "metadata": {},
     "output_type": "execute_result"
    }
   ],
   "source": [
    "data1.head()"
   ]
  },
  {
   "cell_type": "code",
   "execution_count": 75,
   "metadata": {},
   "outputs": [
    {
     "data": {
      "text/html": [
       "<div>\n",
       "<style scoped>\n",
       "    .dataframe tbody tr th:only-of-type {\n",
       "        vertical-align: middle;\n",
       "    }\n",
       "\n",
       "    .dataframe tbody tr th {\n",
       "        vertical-align: top;\n",
       "    }\n",
       "\n",
       "    .dataframe thead th {\n",
       "        text-align: right;\n",
       "    }\n",
       "</style>\n",
       "<table border=\"1\" class=\"dataframe\">\n",
       "  <thead>\n",
       "    <tr style=\"text-align: right;\">\n",
       "      <th></th>\n",
       "      <th>music_id</th>\n",
       "      <th>music_name</th>\n",
       "    </tr>\n",
       "  </thead>\n",
       "  <tbody>\n",
       "    <tr>\n",
       "      <th>0</th>\n",
       "      <td>1</td>\n",
       "      <td>Ahe's My Kind Of Girl</td>\n",
       "    </tr>\n",
       "    <tr>\n",
       "      <th>1</th>\n",
       "      <td>2</td>\n",
       "      <td>Andante, Andante</td>\n",
       "    </tr>\n",
       "    <tr>\n",
       "      <th>2</th>\n",
       "      <td>3</td>\n",
       "      <td>As Good As New</td>\n",
       "    </tr>\n",
       "    <tr>\n",
       "      <th>3</th>\n",
       "      <td>4</td>\n",
       "      <td>Bang</td>\n",
       "    </tr>\n",
       "    <tr>\n",
       "      <th>4</th>\n",
       "      <td>5</td>\n",
       "      <td>Bang-A-Boomerang</td>\n",
       "    </tr>\n",
       "  </tbody>\n",
       "</table>\n",
       "</div>"
      ],
      "text/plain": [
       "   music_id             music_name\n",
       "0         1  Ahe's My Kind Of Girl\n",
       "1         2       Andante, Andante\n",
       "2         3         As Good As New\n",
       "3         4                   Bang\n",
       "4         5       Bang-A-Boomerang"
      ]
     },
     "execution_count": 75,
     "metadata": {},
     "output_type": "execute_result"
    }
   ],
   "source": [
    "data2.head()"
   ]
  },
  {
   "cell_type": "markdown",
   "metadata": {},
   "source": [
    "# 1. Preprocessing"
   ]
  },
  {
   "cell_type": "code",
   "execution_count": 76,
   "metadata": {},
   "outputs": [],
   "source": [
    "#merging dataset data1 and data2 on the basis of music_id\n",
    "data = pd.merge(data1, data2, on='music_id')"
   ]
  },
  {
   "cell_type": "code",
   "execution_count": 77,
   "metadata": {},
   "outputs": [],
   "source": [
    "#making the columns of merged dataset in order\n",
    "data = data[['user_id', 'music_id', 'music_name', 'rating']]\n",
    "data.sort_values(by='user_id', inplace=True)\n",
    "data.reset_index(drop=True, inplace=True)"
   ]
  },
  {
   "cell_type": "code",
   "execution_count": 78,
   "metadata": {},
   "outputs": [
    {
     "data": {
      "text/html": [
       "<div>\n",
       "<style scoped>\n",
       "    .dataframe tbody tr th:only-of-type {\n",
       "        vertical-align: middle;\n",
       "    }\n",
       "\n",
       "    .dataframe tbody tr th {\n",
       "        vertical-align: top;\n",
       "    }\n",
       "\n",
       "    .dataframe thead th {\n",
       "        text-align: right;\n",
       "    }\n",
       "</style>\n",
       "<table border=\"1\" class=\"dataframe\">\n",
       "  <thead>\n",
       "    <tr style=\"text-align: right;\">\n",
       "      <th></th>\n",
       "      <th>user_id</th>\n",
       "      <th>music_id</th>\n",
       "      <th>music_name</th>\n",
       "      <th>rating</th>\n",
       "    </tr>\n",
       "  </thead>\n",
       "  <tbody>\n",
       "    <tr>\n",
       "      <th>0</th>\n",
       "      <td>1</td>\n",
       "      <td>4576</td>\n",
       "      <td>Answer In The Sky</td>\n",
       "      <td>2</td>\n",
       "    </tr>\n",
       "    <tr>\n",
       "      <th>1</th>\n",
       "      <td>1</td>\n",
       "      <td>3715</td>\n",
       "      <td>Bella Bella Bambina</td>\n",
       "      <td>5</td>\n",
       "    </tr>\n",
       "    <tr>\n",
       "      <th>2</th>\n",
       "      <td>1</td>\n",
       "      <td>5369</td>\n",
       "      <td>Seven Sundays</td>\n",
       "      <td>1</td>\n",
       "    </tr>\n",
       "    <tr>\n",
       "      <th>3</th>\n",
       "      <td>1</td>\n",
       "      <td>5204</td>\n",
       "      <td>Wise Guy</td>\n",
       "      <td>2</td>\n",
       "    </tr>\n",
       "    <tr>\n",
       "      <th>4</th>\n",
       "      <td>1</td>\n",
       "      <td>4206</td>\n",
       "      <td>Oh Billy Please</td>\n",
       "      <td>5</td>\n",
       "    </tr>\n",
       "  </tbody>\n",
       "</table>\n",
       "</div>"
      ],
      "text/plain": [
       "   user_id  music_id           music_name  rating\n",
       "0        1      4576    Answer In The Sky       2\n",
       "1        1      3715  Bella Bella Bambina       5\n",
       "2        1      5369        Seven Sundays       1\n",
       "3        1      5204             Wise Guy       2\n",
       "4        1      4206      Oh Billy Please       5"
      ]
     },
     "execution_count": 78,
     "metadata": {},
     "output_type": "execute_result"
    }
   ],
   "source": [
    "data.head()"
   ]
  },
  {
   "cell_type": "code",
   "execution_count": 79,
   "metadata": {},
   "outputs": [],
   "source": [
    "#saving the merged dataset inside input folder\n",
    "data.to_csv(os.path.join('input','merged_dataset.csv'), index=False)"
   ]
  },
  {
   "cell_type": "code",
   "execution_count": 80,
   "metadata": {},
   "outputs": [],
   "source": [
    "#splitting data for training, testing and validation\n",
    "train_data, remaining_data = train_test_split(data, test_size=0.2, random_state=42)"
   ]
  },
  {
   "cell_type": "code",
   "execution_count": 81,
   "metadata": {},
   "outputs": [],
   "source": [
    "#finding out the unique numbers of users and musics\n",
    "num_users = data['user_id'].nunique()\n",
    "num_songs = data['music_id'].nunique()"
   ]
  },
  {
   "cell_type": "markdown",
   "metadata": {},
   "source": [
    "# 2. Create Model"
   ]
  },
  {
   "cell_type": "code",
   "execution_count": 82,
   "metadata": {},
   "outputs": [],
   "source": [
    "#hyperparameters for fine tuning of model\n",
    "EMBEDDING_SIZE = 10\n",
    "BATCH_SIZE = 16\n",
    "EPOCHS = 15\n",
    "LEARNING_RATE = 0.001"
   ]
  },
  {
   "cell_type": "code",
   "execution_count": 83,
   "metadata": {},
   "outputs": [],
   "source": [
    "# Create user embedding inpurt and embedding layer\n",
    "embedding_size = EMBEDDING_SIZE\n",
    "user_input = Input(shape=(1,))\n",
    "user_embedding = Embedding(num_users + 1, embedding_size)(user_input)  # Add +1 to handle out-of-bound indices\n",
    "user_embedding = Flatten()(user_embedding)\n",
    "\n",
    "# Create song embedding input and embedding layer\n",
    "song_input = Input(shape=(1,))\n",
    "song_embedding = Embedding(num_songs + 1, embedding_size)(song_input)  # Add +1 to handle out-of-bound indices\n",
    "song_embedding = Flatten()(song_embedding)"
   ]
  },
  {
   "cell_type": "code",
   "execution_count": 84,
   "metadata": {},
   "outputs": [],
   "source": [
    "# Merging both embedding layers to entry as a single input to the neural layers\n",
    "merged = Concatenate()([user_embedding, song_embedding])"
   ]
  },
  {
   "cell_type": "code",
   "execution_count": 85,
   "metadata": {},
   "outputs": [
    {
     "data": {
      "text/plain": [
       "<KerasTensor: shape=(None, 20) dtype=float32 (created by layer 'concatenate_4')>"
      ]
     },
     "execution_count": 85,
     "metadata": {},
     "output_type": "execute_result"
    }
   ],
   "source": [
    "merged"
   ]
  },
  {
   "cell_type": "code",
   "execution_count": 86,
   "metadata": {},
   "outputs": [],
   "source": [
    "# Create the connected dense layers with suitable activation functions\n",
    "dense1 = Dense(64, activation='relu')(merged)\n",
    "dense2 = Dense(32, activation='relu')(dense1)\n",
    "output = Dense(1)(dense2)"
   ]
  },
  {
   "cell_type": "code",
   "execution_count": 87,
   "metadata": {},
   "outputs": [],
   "source": [
    "# Define the inputs and outputs of the model\n",
    "model = Model(inputs=[user_input, song_input], outputs=output)"
   ]
  },
  {
   "cell_type": "code",
   "execution_count": 88,
   "metadata": {},
   "outputs": [],
   "source": [
    "# Set necessary optimizers and loss function to help further during training\n",
    "model.compile(optimizer=Adam(learning_rate=LEARNING_RATE), loss=MeanSquaredError(),  metrics=['mean_squared_error'])"
   ]
  },
  {
   "cell_type": "code",
   "execution_count": 89,
   "metadata": {},
   "outputs": [
    {
     "name": "stdout",
     "output_type": "stream",
     "text": [
      "Epoch 1/15\n",
      "50000/50000 [==============================] - 162s 3ms/step - loss: 2.0215 - mean_squared_error: 2.0215\n",
      "Epoch 2/15\n",
      "50000/50000 [==============================] - 174s 3ms/step - loss: 2.0043 - mean_squared_error: 2.0043\n",
      "Epoch 3/15\n",
      "50000/50000 [==============================] - 174s 3ms/step - loss: 1.9862 - mean_squared_error: 1.9862\n",
      "Epoch 4/15\n",
      "50000/50000 [==============================] - 177s 4ms/step - loss: 1.9395 - mean_squared_error: 1.9395\n",
      "Epoch 5/15\n",
      "50000/50000 [==============================] - 191s 4ms/step - loss: 1.8807 - mean_squared_error: 1.8807\n",
      "Epoch 6/15\n",
      "50000/50000 [==============================] - 188s 4ms/step - loss: 1.8270 - mean_squared_error: 1.8270\n",
      "Epoch 7/15\n",
      "50000/50000 [==============================] - 183s 4ms/step - loss: 1.7814 - mean_squared_error: 1.7814\n",
      "Epoch 8/15\n",
      "50000/50000 [==============================] - 187s 4ms/step - loss: 1.7417 - mean_squared_error: 1.7417\n",
      "Epoch 9/15\n",
      "50000/50000 [==============================] - 193s 4ms/step - loss: 1.7060 - mean_squared_error: 1.7060\n",
      "Epoch 10/15\n",
      "50000/50000 [==============================] - 186s 4ms/step - loss: 1.6749 - mean_squared_error: 1.6749\n",
      "Epoch 11/15\n",
      "50000/50000 [==============================] - 150s 3ms/step - loss: 1.6451 - mean_squared_error: 1.6451\n",
      "Epoch 12/15\n",
      "50000/50000 [==============================] - 155s 3ms/step - loss: 1.6190 - mean_squared_error: 1.6190\n",
      "Epoch 13/15\n",
      "50000/50000 [==============================] - 175s 3ms/step - loss: 1.5950 - mean_squared_error: 1.5950\n",
      "Epoch 14/15\n",
      "50000/50000 [==============================] - 168s 3ms/step - loss: 1.5721 - mean_squared_error: 1.5721\n",
      "Epoch 15/15\n",
      "50000/50000 [==============================] - 171s 3ms/step - loss: 1.5522 - mean_squared_error: 1.5522\n"
     ]
    }
   ],
   "source": [
    "# MOdel Training \n",
    "history = model.fit([train_data['user_id'], train_data['music_id']], train_data['rating'], epochs=EPOCHS, batch_size=BATCH_SIZE)\n"
   ]
  },
  {
   "cell_type": "code",
   "execution_count": 90,
   "metadata": {},
   "outputs": [
    {
     "data": {
      "image/png": "[encoded data removed]",
      "text/plain": [
       "<Figure size 1000x600 with 1 Axes>"
      ]
     },
     "metadata": {},
     "output_type": "display_data"
    }
   ],
   "source": [
    "# Get the training history\n",
    "mse = history.history['mean_squared_error']\n",
    "\n",
    "# Plot MSE\n",
    "plt.figure(figsize=(10, 6))\n",
    "plt.plot(mse, 'r-', label='Mean Absolute Error')\n",
    "plt.title('Mean Absolute Error')\n",
    "plt.xlabel('Epochs')\n",
    "plt.ylabel('MSE')\n",
    "plt.legend()\n",
    "plt.show()"
   ]
  },
  {
   "cell_type": "markdown",
   "metadata": {},
   "source": [
    "# 3. Make Predictions"
   ]
  },
  {
   "cell_type": "code",
   "execution_count": 98,
   "metadata": {},
   "outputs": [],
   "source": [
    "# select one random user_id and music_id\n",
    "user_id = 100\n",
    "music_id = 5085"
   ]
  },
  {
   "cell_type": "code",
   "execution_count": 99,
   "metadata": {},
   "outputs": [
    {
     "name": "stdout",
     "output_type": "stream",
     "text": [
      "1/1 [==============================] - 0s 50ms/step\n"
     ]
    }
   ],
   "source": [
    "# Rating is predicted using trained model\n",
    "rating = model.predict([np.array([user_id]), np.array([music_id])]).flatten()"
   ]
  },
  {
   "cell_type": "code",
   "execution_count": 100,
   "metadata": {},
   "outputs": [],
   "source": [
    "rating = np.round(rating).astype(int)"
   ]
  },
  {
   "cell_type": "code",
   "execution_count": 101,
   "metadata": {},
   "outputs": [
    {
     "name": "stdout",
     "output_type": "stream",
     "text": [
      "The predicted rating for music_id: 5000 by the user_id:100 is  3\n"
     ]
    }
   ],
   "source": [
    "print(\"The predicted rating for music_id: 5000 by the user_id:100 is \", rating[0])"
   ]
  },
  {
   "cell_type": "markdown",
   "metadata": {},
   "source": [
    "# 4. Evaluate Model"
   ]
  },
  {
   "cell_type": "code",
   "execution_count": 104,
   "metadata": {},
   "outputs": [
    {
     "name": "stdout",
     "output_type": "stream",
     "text": [
      "6282/6282 [==============================] - 9s 1ms/step\n",
      "The accuracy of the model is : 57.28%\n",
      "Precision: 0.6653579895685159\n",
      "Recall: 0.5810902585678555\n"
     ]
    }
   ],
   "source": [
    "# Predict ratings for the test set\n",
    "predicted_ratings = model.predict([test_data['user_id'], test_data['music_id']]).flatten()\n",
    "\n",
    "# Set threshold\n",
    "threshold = 3\n",
    "\n",
    "# Classify ratings based on the threshold\n",
    "predicted_labels = np.where(predicted_ratings>=threshold,1,0).astype(int)\n",
    "actual_labels = np.where(test_data['rating']>=threshold,1,0).astype(int)\n",
    "\n",
    "# Calculate precision and recall\n",
    "precision = precision_score(actual_labels, predicted_labels)\n",
    "recall = recall_score(actual_labels, predicted_labels)\n",
    "\n",
    "# Calculate accuracy-like metric\n",
    "accuracy = np.sum(predicted_labels == actual_labels) / len(actual_labels)\n",
    "\n",
    "# Print the results\n",
    "print(\"The accuracy of the model is : {:.2%}\".format(accuracy))\n",
    "print(\"Precision:\", precision)\n",
    "print(\"Recall:\", recall)"
   ]
  },
  {
   "cell_type": "code",
   "execution_count": 103,
   "metadata": {},
   "outputs": [],
   "source": [
    "# Saving the trained model\n",
    "model.save(os.path.join('model', 'music_recommend.h5'))"
   ]
  }
 ],
 "metadata": {
  "kernelspec": {
   "display_name": "tensor",
   "language": "python",
   "name": "python3"
  },
  "language_info": {
   "codemirror_mode": {
    "name": "ipython",
    "version": 3
   },
   "file_extension": ".py",
   "mimetype": "text/x-python",
   "name": "python",
   "nbconvert_exporter": "python",
   "pygments_lexer": "ipython3",
   "version": "3.10.8"
  },
  "orig_nbformat": 4
 },
 "nbformat": 4,
 "nbformat_minor": 2
}
