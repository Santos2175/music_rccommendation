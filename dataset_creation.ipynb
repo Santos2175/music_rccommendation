{
 "cells": [
  {
   "cell_type": "code",
   "execution_count": 4,
   "metadata": {},
   "outputs": [
    {
     "name": "stdout",
     "output_type": "stream",
     "text": [
      "CSV file generated successfully!\n"
     ]
    }
   ],
   "source": [
    "import csv\n",
    "import random\n",
    "\n",
    "user_count = 10000\n",
    "music_count = 8000\n",
    "ratings = [1, 2, 3, 4, 5]\n",
    "songs_per_user = 100\n",
    "\n",
    "# Generate user IDs\n",
    "user_ids = list(range(1, user_count + 1))\n",
    "\n",
    "# Generate music IDs\n",
    "music_ids = list(range(1, music_count + 1))\n",
    "\n",
    "# Create a list to store the data\n",
    "data = []\n",
    "\n",
    "# Generate ratings for each user and music combination\n",
    "for user_id in user_ids:\n",
    "    # Shuffle the music IDs\n",
    "    random.shuffle(music_ids)\n",
    "    # Select the first 25 music IDs\n",
    "    selected_music_ids = music_ids[:songs_per_user]\n",
    "    \n",
    "    # Generate random ratings for the selected music IDs\n",
    "    for music_id in selected_music_ids:\n",
    "        rating = random.choice(ratings)\n",
    "        data.append([user_id, music_id, rating])\n",
    "\n",
    "# Write the data to a CSV file\n",
    "with open('music_ratings1.csv', 'w', newline='') as file:\n",
    "    writer = csv.writer(file)\n",
    "    writer.writerow([\"user_id\", \"music_id\", \"rating\"])\n",
    "    writer.writerows(data)\n",
    "\n",
    "print(\"CSV file generated successfully!\")"
   ]
  }
 ],
 "metadata": {
  "kernelspec": {
   "display_name": "tensor",
   "language": "python",
   "name": "python3"
  },
  "language_info": {
   "codemirror_mode": {
    "name": "ipython",
    "version": 3
   },
   "file_extension": ".py",
   "mimetype": "text/x-python",
   "name": "python",
   "nbconvert_exporter": "python",
   "pygments_lexer": "ipython3",
   "version": "3.10.8"
  },
  "orig_nbformat": 4
 },
 "nbformat": 4,
 "nbformat_minor": 2
}
